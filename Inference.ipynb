{
 "cells": [
  {
   "cell_type": "code",
   "execution_count": null,
   "id": "c5ef082a-c6e7-4b76-97ad-652af7e9b772",
   "metadata": {},
   "outputs": [],
   "source": [
    "from huggingface_hub import notebook_login\n",
    "\n",
    "notebook_login()"
   ]
  },
  {
   "cell_type": "code",
   "execution_count": null,
   "id": "73c1994f-b3f3-4e93-9596-945cda180612",
   "metadata": {},
   "outputs": [],
   "source": [
    "from datasets import load_dataset\n",
    "import torch\n",
    "from tqdm.notebook import tqdm\n",
    "import gc"
   ]
  },
  {
   "cell_type": "code",
   "execution_count": null,
   "id": "5fcca240-08ad-4b3d-8ece-4cb29bd7a597",
   "metadata": {},
   "outputs": [],
   "source": [
    "# Load model directly\n",
    "from transformers import AutoTokenizer, AutoModelForMultipleChoice\n",
    "device='cuda'\n",
    "tokenizer = AutoTokenizer.from_pretrained(\"MoritzLaurer/deberta-v3-large-zeroshot-v2.0\", token=\"YOUR_TOKEN\")\n",
    "model = AutoModelForMultipleChoice.from_pretrained(\"MoritzLaurer/deberta-v3-large-zeroshot-v2.0\", token=\"YOUR_TOKEN\", ignore_mismatched_sizes=True).to(device)"
   ]
  },
  {
   "cell_type": "code",
   "execution_count": null,
   "id": "7683107e-34e5-4ca8-a25e-2c3baf8e9d73",
   "metadata": {},
   "outputs": [],
   "source": [
    "swag = load_dataset(\"swag\", \"regular\", trust_remote_code=True)"
   ]
  },
  {
   "cell_type": "code",
   "execution_count": null,
   "id": "5ad945af-e894-4714-974d-902b20ccc1a8",
   "metadata": {},
   "outputs": [],
   "source": [
    "def preprocess_function(examples, tokenizer):\n",
    "    ending_names = [\"ending0\", \"ending1\", \"ending2\", \"ending3\"]\n",
    "    first_sentences = [[context] * 4 for context in examples[\"sent1\"]]\n",
    "    question_headers = examples[\"sent2\"]\n",
    "    second_sentences = [\n",
    "        [f\"{header} {examples[end][i]}\" for end in ending_names] for i, header in enumerate(question_headers)\n",
    "    ]\n",
    "    \n",
    "    first_sentences = sum(first_sentences, [])\n",
    "    second_sentences = sum(second_sentences, [])\n",
    "\n",
    "    # Tokenize and pad sequences to the maximum length in the batch\n",
    "    tokenized_examples = tokenizer(first_sentences, second_sentences, padding=\"max_length\", truncation=True)\n",
    "    return {k: [v[i:i+4] for i in range(0, len(v), 4)] for k, v in tokenized_examples.items()}"
   ]
  },
  {
   "cell_type": "code",
   "execution_count": null,
   "id": "63735dd7-a669-4ce8-a0ba-c008edc21683",
   "metadata": {},
   "outputs": [],
   "source": [
    "tokenized_swag = swag.map(lambda examples: preprocess_function(examples, tokenizer), batched=True)"
   ]
  },
  {
   "cell_type": "code",
   "execution_count": null,
   "id": "0a48aef3-6658-4bd2-8352-44c004f464c0",
   "metadata": {},
   "outputs": [],
   "source": [
    "tokenized_swag[\"test\"].format"
   ]
  },
  {
   "cell_type": "code",
   "execution_count": null,
   "id": "f68698fe-8fbb-4fc3-86ae-0dfddf6c441b",
   "metadata": {},
   "outputs": [],
   "source": [
    "import numpy as np\n",
    "import evaluate\n",
    "\n",
    "accuracy = evaluate.load(\"accuracy\")\n",
    "\n",
    "def compute_metrics(eval_pred):\n",
    "    predictions, labels = eval_pred\n",
    "    predictions = np.argmax(predictions, axis=1)\n",
    "    return accuracy.compute(predictions=predictions, references=labels)"
   ]
  },
  {
   "cell_type": "code",
   "execution_count": null,
   "id": "a1ef8c96-e337-4cec-b4b9-8c40c170ede5",
   "metadata": {},
   "outputs": [],
   "source": [
    "def predict(dataloader):\n",
    "    all_predictions = []\n",
    "    all_labels = []\n",
    "    model.eval()  # Set the model to evaluation mode\n",
    "\n",
    "    for batch in tqdm(dataloader, desc=\"Processing batches\"):\n",
    "        input_ids = batch['input_ids'].to(device)\n",
    "        attention_mask = batch['attention_mask'].to(device)\n",
    "        labels = batch['labels'].to(device)  # Assuming labels are part of your batch\n",
    "\n",
    "        with torch.no_grad():\n",
    "            outputs = model(input_ids=input_ids.view(-1, 4, input_ids.size(-1)),\n",
    "                            attention_mask=attention_mask.view(-1, 4, attention_mask.size(-1)))\n",
    "        logits = outputs.logits\n",
    "        predictions = torch.argmax(logits, dim=-1)\n",
    "\n",
    "        # Move predictions and labels to CPU and append to lists\n",
    "        all_predictions.extend(predictions.to('cpu').tolist())\n",
    "        all_labels.extend(labels.to('cpu').tolist())\n",
    "\n",
    "    return all_predictions, all_labels\n"
   ]
  },
  {
   "cell_type": "code",
   "execution_count": null,
   "id": "d91602d6-3cba-4522-8226-65821d804338",
   "metadata": {},
   "outputs": [],
   "source": [
    "from torch.utils.data import DataLoader\n",
    "\n",
    "def collate_fn(batch):\n",
    "    # This function will handle batching\n",
    "    input_ids = torch.tensor([item['input_ids'] for item in batch])\n",
    "    attention_mask = torch.tensor([item['attention_mask'] for item in batch])\n",
    "    labels = torch.tensor([item['label'] for item in batch])\n",
    "    \n",
    "    return {\n",
    "        'input_ids': input_ids,\n",
    "        'attention_mask': attention_mask,\n",
    "        'labels': labels\n",
    "    }\n",
    "\n",
    "gc.collect()\n",
    "if torch.cuda.is_available():\n",
    "    torch.cuda.empty_cache()\n",
    "# Create a DataLoader for the test dataset\n",
    "test_loader = DataLoader(tokenized_swag['validation'], batch_size=16, collate_fn=collate_fn)\n",
    "\n",
    "# Assuming predict function is correctly defined\n",
    "predictions, labels = predict(test_loader)  # Changed from test_batch to test_loader"
   ]
  },
  {
   "cell_type": "code",
   "execution_count": null,
   "id": "9528dbbc-ccd7-4154-9d3a-085214a9e84a",
   "metadata": {},
   "outputs": [],
   "source": [
    "import evaluate\n",
    "\n",
    "accuracy_metric = evaluate.load(\"accuracy\")\n",
    "\n",
    "def compute_accuracy(predictions, references):\n",
    "    return accuracy_metric.compute(predictions=predictions, references=references)\n",
    "\n",
    "test_accuracy = compute_accuracy(predictions, labels)\n",
    "print(f\"Test Accuracy: {test_accuracy['accuracy']}\")"
   ]
  },
  {
   "cell_type": "code",
   "execution_count": null,
   "id": "7695ac90-88ad-43ad-a5aa-c40f43cb9b35",
   "metadata": {},
   "outputs": [],
   "source": [
    "print(predictions)"
   ]
  },
  {
   "cell_type": "code",
   "execution_count": null,
   "id": "d61b19d9-5c94-4f76-a14d-94840258ab55",
   "metadata": {},
   "outputs": [],
   "source": [
    "\n",
    "# test_loader = DataLoader(tokenized_swag['test'], batch_size=16, collate_fn=collate_fn)\n",
    "\n",
    "# # Assuming predict function is correctly defined\n",
    "# predictions, labels = predict(test_loader)  # Changed from test_batch to test_loader\n",
    "# df = pd.DataFrame(predictions, columns=['pred'])\n",
    "# df.to_csv('predictions.csv', index=False)"
   ]
  },
  {
   "cell_type": "code",
   "execution_count": null,
   "id": "10c25428-59f3-4aee-9608-e534a0fe502b",
   "metadata": {},
   "outputs": [],
   "source": [
    "import pandas as pd"
   ]
  },
  {
   "cell_type": "code",
   "execution_count": null,
   "id": "956e63c4-8f35-4171-a3fc-2660bcf87c3c",
   "metadata": {},
   "outputs": [],
   "source": [
    "# df = pd.DataFrame(predictions, columns=['pred'])\n",
    "# df.to_csv('predictions.csv', index=False)"
   ]
  },
  {
   "cell_type": "code",
   "execution_count": null,
   "id": "38340fba-9d18-4e7f-a810-f03b2308a9f4",
   "metadata": {},
   "outputs": [],
   "source": []
  }
 ],
 "metadata": {
  "kernelspec": {
   "display_name": "Python 3 (ipykernel)",
   "language": "python",
   "name": "python3"
  },
  "language_info": {
   "codemirror_mode": {
    "name": "ipython",
    "version": 3
   },
   "file_extension": ".py",
   "mimetype": "text/x-python",
   "name": "python",
   "nbconvert_exporter": "python",
   "pygments_lexer": "ipython3",
   "version": "3.10.2"
  }
 },
 "nbformat": 4,
 "nbformat_minor": 5
}
